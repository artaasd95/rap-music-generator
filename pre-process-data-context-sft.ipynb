{
 "cells": [
  {
   "cell_type": "code",
   "execution_count": 13,
   "metadata": {},
   "outputs": [],
   "source": [
    "from datasets import Dataset, load_dataset"
   ]
  },
  {
   "cell_type": "code",
   "execution_count": 14,
   "metadata": {},
   "outputs": [],
   "source": [
    "def extract_features(example):\n",
    "    text = example[\"text\"]\n",
    "    \n",
    "    # Attempt to split on the word \"Lyrics\" (case-sensitive or case-insensitive as needed).\n",
    "    # Using 'split' is simplest if you know \"Lyrics\" appears exactly once:\n",
    "    parts = text.split(\"Lyrics\", 1)\n",
    "    \n",
    "    if len(parts) == 2:\n",
    "        track_name = parts[0].strip()\n",
    "        lyrics = parts[1].strip()\n",
    "    else:\n",
    "        # Fallback: if \"Lyrics\" isn't found, treat entire text as lyrics, no track name\n",
    "        track_name = \"\"\n",
    "        lyrics = text\n",
    "    \n",
    "    # Now get the first two lines for the prompt\n",
    "    # Split by newline, ignoring empty lines\n",
    "    lines = [l for l in lyrics.split(\"\\n\") if l.strip()]\n",
    "    first_two_lines = lines[:2]\n",
    "    prompt_text = \"generate Rap lyrics like this lyrics:\\n\"\n",
    "    prompt_text = prompt_text + \"\\n\".join(first_two_lines)\n",
    "    \n",
    "    completion_text = lyrics  # entire lyrics\n",
    "    \n",
    "    return {\n",
    "        \"prompt\": prompt_text,\n",
    "        \"completion\": completion_text,\n",
    "        \"track_name\": track_name\n",
    "    }"
   ]
  },
  {
   "cell_type": "code",
   "execution_count": 15,
   "metadata": {},
   "outputs": [],
   "source": [
    "dataset = load_dataset(\"huggingartists/eminem\", split='train')"
   ]
  },
  {
   "cell_type": "code",
   "execution_count": 16,
   "metadata": {},
   "outputs": [],
   "source": [
    "new_dataset = dataset.map(extract_features, remove_columns=[\"text\"])"
   ]
  },
  {
   "cell_type": "code",
   "execution_count": 17,
   "metadata": {},
   "outputs": [
    {
     "data": {
      "text/plain": [
       "{'prompt': 'generate Rap lyrics like this lyrics:\\nLook, I was gonna go easy on you not to hurt your feelings\\nBut Im only going to get this one chance ',\n",
       " 'completion': 'Look, I was gonna go easy on you not to hurt your feelings\\nBut Im only going to get this one chance \\nSomethings wrong, I can feel it \\nJust a feeling Ive got, like somethings about to happen, but I dont know what.\\xa0\\nIf that means what I think it means, were in trouble, big trouble;\\xa0\\nAnd if he is as bananas as you say, Im not taking any chances\\nYou are just what the doc ordered\\nIm beginnin to feel like a Rap God, Rap God\\nAll my people from the front to the back nod, back nod\\nNow, who thinks their arms are long enough to slap box, slap box?\\nThey said I rap like a robot, so call me Rap-bot\\nBut for me to rap like a computer it must be in my genes\\nI got a laptop in my back pocket\\nMy penll go off when I half-cock it\\nGot a fat knot from that rap profit\\nMade a livin and a killin off it\\nEver since Bill Clinton was still in office\\nWith Monica Lewinsky feelin on his nutsack\\nIm an MC still as honest\\nBut as rude and as indecent as all hell\\nSyllables, skill-a-holic \\nThis flippity dippity-hippity hip-hop\\nYou dont really wanna get into a pissin match\\nWith this rappity brat, packin a MAC in the back of the Ac\\nBackpack rap crap, yap-yap, yackety-yack\\nAnd at the exact same time, I attempt these lyrical acrobat stunts while Im practicin that\\nIll still be able to break a motherfuckin table\\nOver the back of a couple of faggots and crack it in half\\nOnly realized it was ironic, I was signed to Aftermath after the fact\\nHow could I not blow? All I do is drop F-bombs\\nFeel my wrath of attack\\nRappers are havin a rough time period, heres a maxi pad\\nIts actually disastrously bad for the wack\\nWhile Im masterfully constructing this masterpièce\\nCause Im beginnin to feel like a Rap God, Rap God\\nAll my people from the front to the back nod, back nod\\nNow, who thinks their arms are long enough to slap box, slap box?\\nLet me show you maintainin this shit aint that hard, that hard\\nEverybody want the key and the secret to rap immortality like Ι have got\\nWell, to be truthful the blueprints\\nSimply rage and youthful exuberance\\nEverybody loves to root for a nuisance\\nHit the Earth like an asteroid\\nDid nothing but shoot for the Moon since \\nMCs get taken to school with this music\\nCause I use it as a vehicle to bus the rhyme\\nNow I lead a new school full of students\\nMe? Im a product of Rakim\\nLakim Shabazz, 2Pac, N.W.A, Cube, hey Doc, Ren\\nYella, Eazy, thank you, they got Slim\\nInspired enough to one day grow up, blow up and be in a position\\nTo meet Run–D.M.C., induct them\\nInto the motherfuckin Rock and Roll Hall of Fame\\nEven though Ill walk in the church and burst in a ball of flames\\nOnly Hall of Fame Ill be inducted in is the alcohol of fame\\nOn the wall of shame\\nYou fags think its all a game, til I walk a flock of flames\\nOff a plank and, tell me what in the fuck are you thinkin?\\nLittle gay-lookin boy\\nSo gay I can barely say it with a straight face, lookin boy \\nYoure witnessin a mass-occur\\nLike youre watching a church gathering take place, lookin boy\\nOy vey, that boys gay!—thats all they say, lookin boy\\nYou get a thumbs up, pat on the back\\nAnd a way to go from your label every day, lookin boy\\nHey, lookin boy! What you say, lookin boy?\\nI get a hell yeah from Dre, lookin boy\\nIma work for everything I have, never asked nobody for shit\\nGet outta my face, lookin boy!\\nBasically, boy, youre never gonna be capable\\nOf keepin up with the same pace, lookin boy, cause—\\nIm beginnin to feel like a Rap God, Rap God\\nAll my people from the front to the back nod, back nod\\nThe way Im racin around the track, call me NASCAR, NASCAR\\nDale Earnhardt of the trailer park, the White Trash God\\nKneel before General Zod\\nThis planets Krypton—no, Asgard, Asgard\\nSo youll be Thor and Ill be Odin\\nYou rodent, Im omnipotent\\nLet off, then Im reloadin\\nImmediately with these bombs Im totin\\nAnd I should not be woken\\nIm the walkin dead, but Im just a talkin head, a zombie floatin\\nBut I got your mom deep-throatin\\nIm out my Ramen Noodle\\nWe have nothin in common, poodle\\nIm a Doberman, pinch yourself in the arm and pay homage, pupil\\nIts me, my honestys brutal\\nBut its honestly futile if I dont utilize what I do though\\nFor good at least once in a while\\nSo I wanna make sure somewhere in this chicken scratch I scribble and doodle enough rhymes\\nTo maybe try to help get some people through tough times\\nBut I gotta keep a few punchlines\\nJust in case cause even you unsigned\\nRappers are hungry lookin at me like its lunchtime\\nI know there was a time where once I\\nWas king of the underground\\nBut I still rap like Im on my Pharoahe Monch grind\\nSo I crunch rhymes, but sometimes when you combine\\nAppeal with the skin color of mine\\nYou get too big and here they come tryin\\nTo censor you like that one line\\nI said on Im Back from The Mathers LP 1 when I\\nTried to say Ill take seven kids from Columbine\\nPut em all in a line, add an AK-47, a revolver and a 9\\nSee if I get away with it now that I aint as big as I was, but Im\\nMorphin into an immortal, comin through the portal\\nYoure stuck in a time warp from 2004 though\\nAnd I dont know what the fuck that you rhyme for\\nYoure pointless as Rapunzel with fuckin cornrows\\nYou write normal? Fuck being normal!\\nAnd I just bought a new raygun from the future\\nJust to come and shoot ya, like when Fabolous made Ray J mad\\nCause Fab said he looked like a fag at Mayweathers pad\\nSingin to a man while he played piano\\nMan, oh man, that was a 24/7 special on the cable channel\\nSo Ray J went straight to the radio station\\nThe very next day, Hey Fab, Ima kill you!\\nLyrics comin at you at supersonic speed \\nUh, summa-lumma, dooma-lumma, you assumin Im a human\\nWhat I gotta do to get it through to you Im superhuman?\\nInnovative and Im made of rubber so that anything you say is ricochetin off of me and itll glue to you and\\nIm devastating, more than ever demonstrating\\nHow to give a motherfuckin audience a feeling like its levitating\\nNever fading, and I know the haters are forever waiting\\nFor the day that they can say I fell off, theyll be celebrating\\nCause I know the way to get em motivated\\nI make elevating music, you make elevator music\\nOh, hes too mainstream.\\nWell, thats what they do when they get jealous, they confuse it\\nIts not hip-hop, its pop,—cause I found a hella way to fuse it\\nWith rock, shock rap with Doc\\nThrow on Lose Yourself and make em lose it\\nI dont know how to make songs like that\\nI dont know what words to use.\\nLet me know when it occurs to you\\nWhile Im rippin any one of these verses that versus you\\nIts curtains, Im inadvertently hurtin you\\nHow many verses I gotta murder to\\nProve that if you were half as nice, your songs you could sacrifice virgins too?!\\nUgh, school flunky, pill junkie\\nBut look at the accolades these skills brung me\\nFull of myself, but still hungry\\nI bully myself cause I make me do what I put my mind to\\nAnd Im a million leagues above you\\nIll when I speak in tongues, but its still tongue-in-cheek, fuck you\\nIm drunk, so, Satan, take the fucking wheel\\nIma sleep in the front seat\\nBumpin Heavy D and the Boyz, still Chunky but Funky\\nBut in my head theres something I can feel tugging and struggling\\nAngels fight with devils and heres what they want from me\\nTheyre askin me to eliminate some of the women hate\\nBut if you take into consideration the bitter hatred\\nI have, then you may be a little patient\\nAnd more sympathetic to the situation\\nAnd understand the discrimination\\nBut fuck it, lifes handin you lemons? Make lemonade then!\\nBut if I cant batter the women\\nHow the fuck am I supposed to bake them a cake then?!\\nDont mistake him for Satan; its a fatal mistake\\nIf you think I need to be overseas and take a vacation\\nTo trip a broad, and make her fall on her face and\\nDont be a retard—be a king? Think not\\nWhy be a king when you can be a god?6.7KEmbed',\n",
       " 'track_name': 'Rap God'}"
      ]
     },
     "execution_count": 17,
     "metadata": {},
     "output_type": "execute_result"
    }
   ],
   "source": [
    "new_dataset[0]"
   ]
  },
  {
   "cell_type": "code",
   "execution_count": 18,
   "metadata": {},
   "outputs": [
    {
     "data": {
      "application/vnd.jupyter.widget-view+json": {
       "model_id": "434367c1fbbb474dba10e39cba02d609",
       "version_major": 2,
       "version_minor": 0
      },
      "text/plain": [
       "Saving the dataset (0/1 shards):   0%|          | 0/1285 [00:00<?, ? examples/s]"
      ]
     },
     "metadata": {},
     "output_type": "display_data"
    }
   ],
   "source": [
    "new_dataset.save_to_disk('data/eminem_lyrics_prompt_completion')"
   ]
  },
  {
   "cell_type": "code",
   "execution_count": null,
   "metadata": {},
   "outputs": [],
   "source": []
  }
 ],
 "metadata": {
  "kernelspec": {
   "display_name": "llm",
   "language": "python",
   "name": "python3"
  },
  "language_info": {
   "codemirror_mode": {
    "name": "ipython",
    "version": 3
   },
   "file_extension": ".py",
   "mimetype": "text/x-python",
   "name": "python",
   "nbconvert_exporter": "python",
   "pygments_lexer": "ipython3",
   "version": "3.12.0"
  }
 },
 "nbformat": 4,
 "nbformat_minor": 2
}
